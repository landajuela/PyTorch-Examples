{
 "cells": [
  {
   "cell_type": "markdown",
   "metadata": {},
   "source": [
    "# Signal2Signal with RNN"
   ]
  },
  {
   "cell_type": "markdown",
   "metadata": {},
   "source": [
    "Import the required packages :"
   ]
  },
  {
   "cell_type": "code",
   "execution_count": 117,
   "metadata": {},
   "outputs": [],
   "source": [
    "import numpy as np\n",
    "import matplotlib.pyplot as plt\n",
    "import torch\n",
    "from torch import nn\n",
    "from torch import optim\n",
    "from torch.utils.data import Dataset\n",
    "from torch.utils.data import DataLoader"
   ]
  },
  {
   "cell_type": "markdown",
   "metadata": {},
   "source": [
    "In this notebook we train a Recurrent Neural Network to predict a signal to signal correspondance. More precisely, we want to reproduce the following sequence:"
   ]
  },
  {
   "cell_type": "markdown",
   "metadata": {},
   "source": [
    "$$(f_1(t_i),f_2(t_i),f_3(t_i))\\to(f_1(t_i)-f_2(t_i)-f_3(t_i))$$"
   ]
  },
  {
   "cell_type": "markdown",
   "metadata": {},
   "source": [
    "where $f_i$ are given functions."
   ]
  },
  {
   "cell_type": "markdown",
   "metadata": {},
   "source": [
    "The functions are given by:"
   ]
  },
  {
   "cell_type": "code",
   "execution_count": 118,
   "metadata": {},
   "outputs": [],
   "source": [
    "def f1(t):\n",
    "   \"f1 function\"\n",
    "   ret = torch.sin(t)\n",
    "   return ret\n",
    "def f2(t):\n",
    "   \"f2 function\"\n",
    "   ret = torch.cos(t)\n",
    "   return ret\n",
    "def f3(t):\n",
    "   \"f3 function\"\n",
    "   ret = t\n",
    "   return ret\n",
    "def f4(t):\n",
    "   \"f4 function\"\n",
    "   ret = f1(t) - f2(t) - f3(t) \n",
    "   return ret"
   ]
  },
  {
   "cell_type": "markdown",
   "metadata": {},
   "source": [
    "They look like:"
   ]
  },
  {
   "cell_type": "code",
   "execution_count": 119,
   "metadata": {},
   "outputs": [
    {
     "data": {
      "image/png": "[encoded data removed]",
      "text/plain": [
       "<Figure size 432x288 with 1 Axes>"
      ]
     },
     "metadata": {
      "needs_background": "light"
     },
     "output_type": "display_data"
    }
   ],
   "source": [
    "dt = 0.1\n",
    "t = torch.arange(-1.0, 1.0, dt)\n",
    "fig, ax = plt.subplots()\n",
    "ax.plot(t.numpy(),f1(t).numpy(),\"-\", label=\"f1\")\n",
    "ax.plot(t.numpy(),f2(t).numpy(), \"-\", label=\"f2\")\n",
    "ax.plot(t.numpy(),f3(t).numpy(), \"-\", label=\"f3\")\n",
    "ax.plot(t.numpy(),f4(t).numpy(), \"-\", label=\"f4\")\n",
    "ax.legend();"
   ]
  },
  {
   "cell_type": "markdown",
   "metadata": {},
   "source": [
    "## Pre-training"
   ]
  },
  {
   "cell_type": "markdown",
   "metadata": {},
   "source": [
    "### Construct Data"
   ]
  },
  {
   "cell_type": "markdown",
   "metadata": {},
   "source": [
    "We will cut the data in sequences of size $\\text{seq$\\_$len}$ data points. The input and target sequences are:"
   ]
  },
  {
   "cell_type": "markdown",
   "metadata": {},
   "source": [
    "$$\\left(\n",
    "\\begin{array}{cccc}\n",
    " f_1(t_{i}) & f_2(t_{i}) & f_3(t_{i})\\\\\n",
    " \\vdots  & \\vdots  & \\vdots  \\\\\n",
    " f_1(t_{i+\\text{seq$\\_$len}}) & f_2(t_{i+\\text{seq$\\_$len}}) & f_3(t_{i+\\text{seq$\\_$len}})\n",
    "\\end{array}\n",
    "\\right)\n",
    "\\to\n",
    "\\left(\n",
    "\\begin{array}{cccc}\n",
    "f_4(t_{i}) \\\\\n",
    "\\vdots  \\\\\n",
    "f_4(t_{i+\\text{seq$\\_$len}})\n",
    "\\end{array}\n",
    "\\right)\n",
    "$$"
   ]
  },
  {
   "cell_type": "markdown",
   "metadata": {},
   "source": [
    "We create the Dataset object to manage the data. The method ``__getitem__`` returns a trianing example of the form:"
   ]
  },
  {
   "cell_type": "markdown",
   "metadata": {},
   "source": [
    "$$\\left(\n",
    "\\begin{array}{cccc}\n",
    " x_1^1 & x_1^2 & \\ldots & x_1^{\\text{input$\\_$size$\\_$x}} \\\\\n",
    " \\vdots  & \\vdots  & \\ldots  & \\vdots  \\\\\n",
    " x_{\\text{seq$\\_$len}}^1 & x_{\\text{seq$\\_$len}}^2 & \\ldots & x_{\\text{seq$\\_$len}}^{\\text{input$\\_$size$\\_$x}} \\\\\n",
    "\\end{array}\n",
    "\\right)\n",
    "\\to\n",
    "\\left(\n",
    "\\begin{array}{cccc}\n",
    " y_1^1 & y_1^2 & \\ldots & y_1^{\\text{input$\\_$size$\\_$y}} \\\\\n",
    " \\vdots  & \\vdots  & \\ldots  & \\vdots  \\\\\n",
    " y_{\\text{seq$\\_$len}}^1 & y_{\\text{seq$\\_$len}}^2 & \\ldots & y_{\\text{seq$\\_$len}}^{\\text{input$\\_$size$\\_$y}} \\\\\n",
    "\\end{array}\n",
    "\\right)\n",
    "$$"
   ]
  },
  {
   "cell_type": "code",
   "execution_count": 120,
   "metadata": {},
   "outputs": [],
   "source": [
    "class Sig2SigDataset(Dataset):\n",
    "    \"\"\" Sig2Sig dataset.\"\"\"\n",
    "    \n",
    "    def __init__(self, h_size, seq_len):\n",
    "        \n",
    "        # Generate the data\n",
    "        tt = torch.arange(-1.0, 1.0, h_size)  \n",
    "        lentt = tt.shape[0]\n",
    "        \n",
    "        # Check if h_size and seq_len are compatible\n",
    "        if lentt - seq_len < 0:\n",
    "            raise TypeError(f'h_size = {h_size} is too large for the seq_len = {seq_len}')     \n",
    "        \n",
    "        T1 = f1(tt).view([1,lentt]).t()\n",
    "        T2 = f2(tt).view([1,lentt]).t()\n",
    "        T3 = f3(tt).view([1,lentt]).t()\n",
    "        dataX = torch.cat((T1, T2, T3), 1)    \n",
    "        T4 = f4(tt).view([1,lentt]).t()\n",
    "        dataY = T4 \n",
    "        \n",
    "        self.X = torch.zeros(lentt - seq_len, seq_len, 3)\n",
    "        self.Y = torch.zeros(lentt - seq_len, seq_len, 1)\n",
    "        \n",
    "        self.len = self.X.shape[0]\n",
    "        \n",
    "        for i in range(self.len):\n",
    "            self.X[i,:,:] = dataX[i:i + seq_len,:]\n",
    "            self.Y[i,:,:] = dataY[i:i + seq_len,:]\n",
    "                \n",
    "    def __getitem__(self, index):\n",
    "        return self.X[index,:,:], self.Y[index,:,:]\n",
    "\n",
    "    def __len__(self):\n",
    "        return self.len"
   ]
  },
  {
   "cell_type": "markdown",
   "metadata": {},
   "source": [
    "### Design Model"
   ]
  },
  {
   "cell_type": "markdown",
   "metadata": {},
   "source": [
    "We creeate a RNN with a readout layer:"
   ]
  },
  {
   "cell_type": "code",
   "execution_count": 121,
   "metadata": {},
   "outputs": [],
   "source": [
    "class RNNModel(nn.Module):\n",
    "    \n",
    "    def __init__(self, input_dim, hidden_dim, layer_dim, output_dim):\n",
    "        super().__init__()\n",
    "        \n",
    "        # Number of hidden dimensions\n",
    "        self.hidden_dim = hidden_dim\n",
    "        \n",
    "        # Number of hidden layers\n",
    "        self.layer_dim = layer_dim\n",
    "        \n",
    "        # RNN\n",
    "        self.rnn = nn.RNN(input_dim, hidden_dim, layer_dim, batch_first = True, nonlinearity = 'tanh')\n",
    "        \n",
    "        # Readout layer\n",
    "        self.fc = nn.Linear(hidden_dim, output_dim)\n",
    "        \n",
    "    def forward(self, x):\n",
    "        # Initialize hidden state with zeros\n",
    "        # h0.shape must be torch.Size([layer_dim, batch_size, hidden_dim])\n",
    "        h0 = torch.zeros(self.layer_dim, x.size(0), self.hidden_dim)\n",
    "            \n",
    "        # One time step\n",
    "        out, hn = self.rnn(x, h0)\n",
    "        out = self.fc(out) \n",
    "        return out"
   ]
  },
  {
   "cell_type": "markdown",
   "metadata": {},
   "source": [
    "We define a initialization weight function:"
   ]
  },
  {
   "cell_type": "code",
   "execution_count": 122,
   "metadata": {},
   "outputs": [],
   "source": [
    "# Initialitation\n",
    "def init_weights(self):\n",
    "    for m in self.modules():\n",
    "        if type(m) in [nn.GRU, nn.LSTM, nn.RNN]:\n",
    "            for name, param in m.named_parameters():\n",
    "                print(f'Initialization of {name}', end=\"\", flush=True)\n",
    "                if 'weight_ih' in name:   \n",
    "                    torch.nn.init.xavier_uniform_(param.data)\n",
    "                    print('...done')\n",
    "                elif 'weight_hh' in name:\n",
    "                    torch.nn.init.orthogonal_(param.data)\n",
    "                    print('...done')\n",
    "                elif 'bias' in name:\n",
    "                    param.data.fill_(0)\n",
    "                    print('...done')"
   ]
  },
  {
   "cell_type": "markdown",
   "metadata": {},
   "source": [
    "## Training"
   ]
  },
  {
   "cell_type": "markdown",
   "metadata": {},
   "source": [
    "Setup the training process: Model + Loss + Optimizer"
   ]
  },
  {
   "cell_type": "code",
   "execution_count": 123,
   "metadata": {},
   "outputs": [
    {
     "name": "stdout",
     "output_type": "stream",
     "text": [
      "Initialization of weight_ih_l0...done\n",
      "Initialization of weight_hh_l0...done\n",
      "Initialization of bias_ih_l0...done\n",
      "Initialization of bias_hh_l0...done\n",
      "Initialization of weight_ih_l0...done\n",
      "Initialization of weight_hh_l0...done\n",
      "Initialization of bias_ih_l0...done\n",
      "Initialization of bias_hh_l0...done\n"
     ]
    }
   ],
   "source": [
    "# Data parameters\n",
    "h_size = 0.01\n",
    "seq_len = 100\n",
    "\n",
    "# Global parameters\n",
    "input_dim = 3      # input dimension\n",
    "hidden_dim = 100   # hidden layer dimension\n",
    "layer_dim = 1      # number of hidden layers\n",
    "output_dim = 1     # output dimension\n",
    "\n",
    "# Dataset\n",
    "dataset = Sig2SigDataset(h_size, seq_len)\n",
    "# DataLoader\n",
    "train_loader = DataLoader(dataset = dataset,\n",
    "                          batch_size = 32,\n",
    "                          shuffle = True,\n",
    "                          num_workers = 1)\n",
    "\n",
    "# Model\n",
    "model = RNNModel(input_dim, hidden_dim, layer_dim, output_dim)\n",
    "\n",
    "# Initialization                  \n",
    "model.apply(init_weights)\n",
    "\n",
    "# Criterion\n",
    "criterion = nn.MSELoss()\n",
    "\n",
    "# SGD Optimizer\n",
    "learning_rate = 0.0001\n",
    "optimizer = torch.optim.Adam(model.parameters(), lr = learning_rate)"
   ]
  },
  {
   "cell_type": "markdown",
   "metadata": {},
   "source": [
    "* Create the training loop:"
   ]
  },
  {
   "cell_type": "code",
   "execution_count": 124,
   "metadata": {},
   "outputs": [
    {
     "name": "stdout",
     "output_type": "stream",
     "text": [
      "Epoch : 0, Iteration : 0, Loss : 0.6475201845169067\n",
      "Epoch : 100, Iteration : 0, Loss : 0.005389300640672445\n",
      "Epoch : 200, Iteration : 0, Loss : 0.0029443600215017796\n",
      "Epoch : 300, Iteration : 0, Loss : 0.0018940933514386415\n",
      "Epoch : 400, Iteration : 0, Loss : 0.0013392424443736672\n",
      "Epoch : 500, Iteration : 0, Loss : 0.0010189363965764642\n",
      "Epoch : 600, Iteration : 0, Loss : 0.0008105653105303645\n",
      "Epoch : 700, Iteration : 0, Loss : 0.0006549333920702338\n",
      "Epoch : 800, Iteration : 0, Loss : 0.0005255982396192849\n",
      "Epoch : 900, Iteration : 0, Loss : 0.00041280357982032\n",
      "Epoch : 1000, Iteration : 0, Loss : 0.0003141134511679411\n",
      "Epoch : 1100, Iteration : 0, Loss : 0.00022954637825023383\n",
      "Epoch : 1200, Iteration : 0, Loss : 0.00015971195534802973\n",
      "Epoch : 1300, Iteration : 0, Loss : 0.00010515032772673294\n",
      "Epoch : 1400, Iteration : 0, Loss : 6.579277396667749e-05\n",
      "Epoch : 1500, Iteration : 0, Loss : 4.042378714075312e-05\n",
      "Epoch : 1600, Iteration : 0, Loss : 2.6508218070375733e-05\n",
      "Epoch : 1700, Iteration : 0, Loss : 1.9940989659517072e-05\n",
      "Epoch : 1800, Iteration : 0, Loss : 1.696082836133428e-05\n",
      "Epoch : 1900, Iteration : 0, Loss : 3.1302199204219505e-05\n",
      "Epoch : 2000, Iteration : 0, Loss : 1.4218780052033253e-05\n",
      "Epoch : 2100, Iteration : 0, Loss : 1.3261980711831711e-05\n",
      "Epoch : 2200, Iteration : 0, Loss : 1.8556758732302114e-05\n",
      "Epoch : 2300, Iteration : 0, Loss : 1.160683314083144e-05\n",
      "Epoch : 2400, Iteration : 0, Loss : 1.0869342077057809e-05\n",
      "Epoch : 2500, Iteration : 0, Loss : 1.01852656371193e-05\n",
      "Epoch : 2600, Iteration : 0, Loss : 2.1415538867586292e-05\n",
      "Epoch : 2700, Iteration : 0, Loss : 8.981618520920165e-06\n",
      "Epoch : 2800, Iteration : 0, Loss : 8.555241947760805e-06\n",
      "Epoch : 2900, Iteration : 0, Loss : 7.996533895493485e-06\n",
      "Epoch : 3000, Iteration : 0, Loss : 7.5728094088844955e-06\n",
      "Epoch : 3100, Iteration : 0, Loss : 7.187197752500651e-06\n",
      "Epoch : 3200, Iteration : 0, Loss : 6.980401394685032e-06\n",
      "Epoch : 3300, Iteration : 0, Loss : 6.496932201116579e-06\n",
      "Epoch : 3400, Iteration : 0, Loss : 6.1836808527004905e-06\n",
      "Epoch : 3500, Iteration : 0, Loss : 5.878373940504389e-06\n",
      "Epoch : 3600, Iteration : 0, Loss : 5.591349236055976e-06\n",
      "Epoch : 3700, Iteration : 0, Loss : 5.312585926731117e-06\n",
      "Epoch : 3800, Iteration : 0, Loss : 5.0480489335313905e-06\n",
      "Epoch : 3900, Iteration : 0, Loss : 4.794363576365868e-06\n"
     ]
    }
   ],
   "source": [
    "num_epochs = 4000\n",
    "\n",
    "for epoch in range(num_epochs):\n",
    "    \n",
    "    for i, data in enumerate(train_loader, 0):\n",
    " \n",
    "        # Get the inputs\n",
    "        XX, yy = data\n",
    "\n",
    "        # Train step\n",
    "        model.train()\n",
    "        optimizer.zero_grad()\n",
    "\n",
    "        y_ = model(X)\n",
    "        loss = criterion(y_, y)\n",
    "\n",
    "        loss.backward()\n",
    "        optimizer.step()\n",
    "\n",
    "        if epoch % 100 == 0:\n",
    "            if i % 16 == 0:        \n",
    "                # Evaluation\n",
    "                model.eval()\n",
    "                with torch.no_grad():\n",
    "                    y_ = model(X)\n",
    "\n",
    "                # Compute and print loss\n",
    "                loss = criterion(y_, y)\n",
    "                \n",
    "                print(f'Epoch : {epoch}, Iteration : {i}, Loss : {loss.item()}')"
   ]
  },
  {
   "cell_type": "markdown",
   "metadata": {},
   "source": [
    "## Post-processing"
   ]
  },
  {
   "cell_type": "markdown",
   "metadata": {},
   "source": [
    "* Investigate the result"
   ]
  },
  {
   "cell_type": "code",
   "execution_count": 125,
   "metadata": {},
   "outputs": [
    {
     "data": {
      "image/png": "[encoded data removed]",
      "text/plain": [
       "<Figure size 432x288 with 1 Axes>"
      ]
     },
     "metadata": {
      "needs_background": "light"
     },
     "output_type": "display_data"
    }
   ],
   "source": [
    "# Visualization\n",
    "with torch.no_grad():\n",
    "    \n",
    "    h = 0.01;\n",
    "    tt = torch.arange(-1.0, 1.0, h)  \n",
    "    lentt = tt.shape[0]   \n",
    "    T1 = f1(tt).view([1,lentt]).t()\n",
    "    T2 = f2(tt).view([1,lentt]).t()\n",
    "    T3 = f3(tt).view([1,lentt]).t()\n",
    "    dataX = torch.cat((T1, T2, T3), 1)\n",
    "    dataX = dataX.view(-1, dataX.shape[0], dataX.shape[1])\n",
    "    T4 = f4(tt).view([1,lentt]).t()\n",
    "    data = T4 \n",
    "    \n",
    "    # Model in evaluation state\n",
    "    model.eval()      \n",
    "       \n",
    "    # Evalaute the model\n",
    "    y_ = model(dataX)\n",
    "    \n",
    "    fig, ax = plt.subplots()\n",
    "    ax.plot(data.numpy(),\".\", label=\"data\")\n",
    "    ax.plot(y_.view([lentt,1]).numpy(), \".\", label=\"pred\")\n",
    "    ax.legend();"
   ]
  },
  {
   "cell_type": "code",
   "execution_count": null,
   "metadata": {},
   "outputs": [],
   "source": []
  }
 ],
 "metadata": {
  "kernelspec": {
   "display_name": "Python 3",
   "language": "python",
   "name": "python3"
  },
  "language_info": {
   "codemirror_mode": {
    "name": "ipython",
    "version": 3
   },
   "file_extension": ".py",
   "mimetype": "text/x-python",
   "name": "python",
   "nbconvert_exporter": "python",
   "pygments_lexer": "ipython3",
   "version": "3.7.0"
  }
 },
 "nbformat": 4,
 "nbformat_minor": 2
}
