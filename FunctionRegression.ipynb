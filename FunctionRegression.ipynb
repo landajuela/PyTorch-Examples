{
 "cells": [
  {
   "cell_type": "markdown",
   "metadata": {},
   "source": [
    "# Function Regression Example"
   ]
  },
  {
   "cell_type": "markdown",
   "metadata": {},
   "source": [
    "* Import packages:"
   ]
  },
  {
   "cell_type": "code",
   "execution_count": null,
   "metadata": {},
   "outputs": [],
   "source": [
    "import sys\n",
    "print(\"The Python version is %s.%s.%s\" % sys.version_info[:3])\n",
    "import torch\n",
    "print(f'The Torch version is: {torch.__version__}')\n",
    "from torch import nn\n",
    "import matplotlib.pyplot as plt\n",
    "from torch import optim\n",
    "from torch.autograd import grad\n",
    "import numpy as np"
   ]
  },
  {
   "cell_type": "markdown",
   "metadata": {},
   "source": [
    "* We can inspect the package torch"
   ]
  },
  {
   "cell_type": "code",
   "execution_count": null,
   "metadata": {},
   "outputs": [],
   "source": [
    "?torch"
   ]
  },
  {
   "cell_type": "markdown",
   "metadata": {},
   "source": [
    "* The function to approximate is :"
   ]
  },
  {
   "cell_type": "code",
   "execution_count": null,
   "metadata": {},
   "outputs": [],
   "source": [
    "def f1(x):\n",
    "    \"f1 function\"\n",
    "    ret = 1 - 1.5*torch.sin(x) + 0.5*torch.sin(x*x) + torch.tanh(x*x*x)\n",
    "    return ret"
   ]
  },
  {
   "cell_type": "code",
   "execution_count": null,
   "metadata": {},
   "outputs": [],
   "source": [
    "dx = 0.001\n",
    "X = torch.arange(0.0, 10.0, dx)\n",
    "y = f1(X)\n",
    "plt.plot(X.numpy(),y.numpy(),\"-\", label=\"f1\")"
   ]
  },
  {
   "cell_type": "markdown",
   "metadata": {},
   "source": [
    "* Split train and validation sets:"
   ]
  },
  {
   "cell_type": "code",
   "execution_count": null,
   "metadata": {},
   "outputs": [],
   "source": [
    "import random\n",
    "split_amount = 0.8\n",
    "data_length = X.shape[0]\n",
    "train_length = int(split_amount*data_length)\n",
    "index_list = list(range(data_length))\n",
    "random.shuffle(index_list)\n",
    "index_train = index_list[:train_length]\n",
    "index_val = index_list[train_length:]\n",
    "\n",
    "X_train = X[index_train]\n",
    "X_val = X[index_val]\n",
    "y_train = y[index_train]\n",
    "y_val = y[index_val]"
   ]
  },
  {
   "cell_type": "markdown",
   "metadata": {},
   "source": [
    "* Plot the train and validation examples:"
   ]
  },
  {
   "cell_type": "code",
   "execution_count": null,
   "metadata": {},
   "outputs": [],
   "source": [
    "plt.figure(figsize=(8, 5))\n",
    "plt.plot(X_train.numpy(),y_train.numpy(),\"b.\", label=\"train\")\n",
    "plt.plot(X_val.numpy(),y_val.numpy(),\"r.\", label=\"val\")\n",
    "plt.legend()"
   ]
  },
  {
   "cell_type": "markdown",
   "metadata": {},
   "source": [
    "* Transform the numpy.ndarray to torch.Tensor and reshape the y tensor"
   ]
  },
  {
   "cell_type": "code",
   "execution_count": null,
   "metadata": {},
   "outputs": [],
   "source": [
    "X_train = X_train.view(X_train.shape[0],-1)\n",
    "X_val = X_val.view(X_val.shape[0],-1)\n",
    "y_train = y_train.view(y_train.shape[0],-1)\n",
    "y_val = y_val.view(y_val.shape[0],-1)\n",
    "print(f'X_train is of type {type(X_train)} and X_train.shape = {X_train.shape}')\n",
    "print(f'y_train is of type {type(y_train)} and y_train.shape = {y_train.shape}')\n",
    "print(f'X_val is of type {type(X_val)} and X_val.shape = {X_val.shape}')\n",
    "print(f'y_val is of type {type(y_val)} and y_val.shape = {y_val.shape}')"
   ]
  },
  {
   "cell_type": "markdown",
   "metadata": {},
   "source": [
    "* Non-linear net:"
   ]
  },
  {
   "cell_type": "code",
   "execution_count": null,
   "metadata": {},
   "outputs": [],
   "source": [
    "class Net(nn.Module):\n",
    "    def __init__(self, input_dim, hidden_dim):\n",
    "        super().__init__()\n",
    "        self.h1 = nn.Linear(input_dim, hidden_dim)\n",
    "        self.h2 = nn.Linear(hidden_dim, hidden_dim)\n",
    "        self.h3 = nn.Linear(hidden_dim, hidden_dim)\n",
    "        self.h4 = nn.Linear(hidden_dim, 1)\n",
    "    def forward(self, X):\n",
    "        X = self.h1(X)\n",
    "        X = torch.tanh(X)\n",
    "        X = self.h2(X)\n",
    "        X = torch.tanh(X)\n",
    "        X = self.h3(X)\n",
    "        X = torch.tanh(X)\n",
    "        X = self.h4(X)\n",
    "        return X"
   ]
  },
  {
   "cell_type": "markdown",
   "metadata": {},
   "source": [
    "* Initialization :"
   ]
  },
  {
   "cell_type": "code",
   "execution_count": null,
   "metadata": {},
   "outputs": [],
   "source": [
    "n_features = 1\n",
    "hidden_dim = 20\n",
    "learning_rate = 0.01\n",
    "schedulerPlateau = True\n",
    "\n",
    "model = Net(n_features,hidden_dim)\n",
    "\n",
    "names_of_parameters = [] \n",
    "for idx, m in enumerate(model.modules()):         \n",
    "    if idx > 0:\n",
    "        print('{} -> {}'.format(idx,m))    \n",
    "        for name, param in m.named_parameters():\n",
    "            print('Parameter tensor name : {}, size : {},'.format(name, param.size()), end='\\n', flush=True)\n",
    "            print('\\t Initial param.data[0] : {}, param.grad : {}'.format(param.data[0], param.grad), end='\\n', flush=True)\n",
    "            print('\\t Initialization of {}'.format(name), end=\"\", flush=True)\n",
    "            if 'weight' in name:   \n",
    "                torch.nn.init.xavier_uniform_(param.data)\n",
    "                print('...done')\n",
    "            elif 'bias' in name:\n",
    "                param.data.fill_(0)\n",
    "                print('...done')\n",
    "            print('\\t Final param.data[0] : {}, param.grad : {}'.format(param.data[0], param.grad), end='\\n', flush=True)\n",
    "            names_of_parameters.append(str(idx-1) + '_' + name)\n",
    "        print('')   \n",
    "        \n",
    "criterion = nn.MSELoss()\n",
    "\n",
    "optimizer = optim.Adam(model.parameters(), lr = learning_rate)\n",
    "\n",
    "if not schedulerPlateau:\n",
    "    scheduler = torch.optim.lr_scheduler.StepLR(optimizer, step_size = 1, gamma = 1.0)\n",
    "else:    \n",
    "    scheduler = torch.optim.lr_scheduler.ReduceLROnPlateau(optimizer, 'min', verbose = True, patience = 200)"
   ]
  },
  {
   "cell_type": "markdown",
   "metadata": {},
   "source": [
    "* Training :"
   ]
  },
  {
   "cell_type": "code",
   "execution_count": null,
   "metadata": {},
   "outputs": [],
   "source": [
    "epochList = []\n",
    "lossList = []\n",
    "lossValList = []\n",
    "lrList = []\n",
    "gradnpyInitialize = False\n",
    "gradList = []\n",
    "verbose = False\n",
    "num_epochs = 100000\n",
    "grad_clipping = False\n",
    "checkpoint_rate = 100\n",
    "loss_val = torch.tensor([100.0])\n",
    "\n",
    "for i in range(num_epochs):\n",
    "  \n",
    "    ### SCHEDULER ###\n",
    "    if not schedulerPlateau:\n",
    "        scheduler.step()\n",
    "    else:\n",
    "        scheduler.step(loss_val)\n",
    "    if verbose :\n",
    "        print('\\nRight after : scheduler.step()')\n",
    "        print(f'Loss : {loss.item():0.1f}')\n",
    "        for param_group in optimizer.param_groups:\n",
    "            print('Learning rate: {}'.format(param_group['lr']))\n",
    "    \n",
    "    # Model in training mode:\n",
    "    model.train()\n",
    "    if verbose :\n",
    "        print('\\nModel in train mode')\n",
    "    \n",
    "    ### ZEROED THE GRADIENTS ###\n",
    "    optimizer.zero_grad()\n",
    "    if verbose :\n",
    "        print('Right after : optimizer.zero_grad()')\n",
    "        for param in model.parameters():\n",
    "            print('param.data : {}, param.grad : {}'.format(param.data, param.grad))\n",
    "\n",
    "    ### FORWARD PROP ###        \n",
    "    y_ = model(X_train)\n",
    "    if verbose :\n",
    "        print(\"y_.requires_grad : {}\".format(y_.requires_grad))\n",
    "\n",
    "    ### LOSS ###\n",
    "    loss = criterion(y_, y_train)\n",
    "    \n",
    "    ### BACKWARD PROP ###\n",
    "    loss.backward()\n",
    "    if verbose :\n",
    "        print('Right after : loss.backward()')\n",
    "        for param in model.parameters():\n",
    "            print('param.data : {}, param.grad : {}'.format(param.data, param.grad))\n",
    "    \n",
    "    if grad_clipping :\n",
    "        ### CLIPPING ###\n",
    "        torch.nn.utils.clip_grad_norm_(model.parameters(),1, norm_type=2)\n",
    "        if verbose :\n",
    "            print('Right after : clip_grad_norm_')\n",
    "            for param in model.parameters():\n",
    "                print('param.data : {}, param.grad : {}'.format(param.data, param.grad))  \n",
    "\n",
    "    ### ADVANCE THE PARAMETERS OVER THE HILL ###\n",
    "    optimizer.step()\n",
    "    if verbose :\n",
    "        print('Right after : optimizer.step()')\n",
    "        for param in model.parameters():\n",
    "            print('param.data : {}, param.grad : {}'.format(param.data, param.grad))       \n",
    "\n",
    "    if i % checkpoint_rate == 0 :        \n",
    "   \n",
    "        ### EVALUATION ###  \n",
    "        model.eval()\n",
    "    \n",
    "        if verbose :\n",
    "            print('\\nModel in eval mode')\n",
    "            \n",
    "        with torch.no_grad():\n",
    "            y_ = model(X_val)\n",
    "            if verbose :\n",
    "                print(\"y_.requires_grad : {}\".format(y_.requires_grad))    \n",
    "            loss_val = criterion(y_, y_val)\n",
    "                 \n",
    "        gradList = []  \n",
    "        for p in list(filter(lambda p: p.grad is not None, model.parameters())):\n",
    "            gradList.append(p.grad.data.norm(2).item())\n",
    "    \n",
    "        if not gradnpyInitialize :\n",
    "            gradnpy = np.asarray(gradList).reshape((1, len(gradList)))\n",
    "            gradnpyInitialize = True              \n",
    "        else :\n",
    "            gradnpy = np.concatenate((gradnpy, np.asarray(gradList).reshape((1, len(gradList)))), axis=0)\n",
    "    \n",
    "        if not verbose:\n",
    "            print(f'Epoch : {i}, Train Loss : {loss.item()}, Val Loss : {loss_val.item()}')\n",
    "        \n",
    "        epochList.append(i)\n",
    "        lossList.append(loss.item())\n",
    "        lossValList.append(loss_val.item())\n",
    "        for param_group in optimizer.param_groups:\n",
    "            lrList.append(param_group['lr'])"
   ]
  },
  {
   "cell_type": "markdown",
   "metadata": {},
   "source": [
    "* Post-processing:"
   ]
  },
  {
   "cell_type": "code",
   "execution_count": null,
   "metadata": {},
   "outputs": [],
   "source": [
    "plt.figure(figsize=(15, 10))\n",
    "\n",
    "plt.subplot(2, 2, 1)\n",
    "plt.loglog(lossList, label='Train Error')\n",
    "plt.loglog(lossValList, label='Val Error')\n",
    "plt.title('Evolution of loss')\n",
    "plt.ylabel('Error')\n",
    "plt.xlabel('Epoch')\n",
    "plt.legend()\n",
    "\n",
    "plt.subplot(2, 2, 2)\n",
    "plt.loglog(lrList)\n",
    "plt.title('Evolution of learning rate ')\n",
    "plt.ylabel('Error')\n",
    "plt.xlabel('Epoch')\n",
    "\n",
    "plt.subplot(2, 2, 3)\n",
    "for i in range(gradnpy.shape[1]):\n",
    "    plt.loglog(gradnpy[:,i], label = names_of_parameters[i])\n",
    "plt.title('Evolution of gradient norms')\n",
    "plt.ylabel('Norm')\n",
    "plt.xlabel('Epoch')\n",
    "plt.legend()\n",
    "\n",
    "# Visualization\n",
    "with torch.no_grad():\n",
    "    y_ = model(X_val)\n",
    "    plt.subplot(2, 2, 4)\n",
    "    plt.plot(X_val.numpy(), y_.detach().numpy(), \".\", label=\"pred\")\n",
    "    plt.plot(X_val.numpy(), y_val.numpy(), \".\", label=\"data\")\n",
    "    plt.title(f\"MSE: {loss.item()}\")\n",
    "    plt.legend()\n",
    "\n",
    "plt.tight_layout()\n",
    "plt.show() "
   ]
  },
  {
   "cell_type": "code",
   "execution_count": null,
   "metadata": {},
   "outputs": [],
   "source": []
  }
 ],
 "metadata": {
  "kernelspec": {
   "display_name": "Python 3.6.4 64-bit ('3.6.4')",
   "language": "python",
   "name": "python3"
  },
  "language_info": {
   "codemirror_mode": {
    "name": "ipython",
    "version": 3
   },
   "file_extension": ".py",
   "mimetype": "text/x-python",
   "name": "python",
   "nbconvert_exporter": "python",
   "pygments_lexer": "ipython3",
   "version": "3.6.4"
  },
  "vscode": {
   "interpreter": {
    "hash": "185474264c9975e99e952361575b58ce6ef8c0725efde3d0ce11f857d91eb0e2"
   }
  }
 },
 "nbformat": 4,
 "nbformat_minor": 2
}
